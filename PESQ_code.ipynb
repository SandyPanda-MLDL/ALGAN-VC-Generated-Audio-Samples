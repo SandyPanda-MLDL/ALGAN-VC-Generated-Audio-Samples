{
  "nbformat": 4,
  "nbformat_minor": 0,
  "metadata": {
    "colab": {
      "name": "PESQ code.ipynb",
      "provenance": []
    },
    "kernelspec": {
      "name": "python3",
      "display_name": "Python 3"
    },
    "language_info": {
      "name": "python"
    }
  },
  "cells": [
    {
      "cell_type": "code",
      "metadata": {
        "colab": {
          "base_uri": "https://localhost:8080/"
        },
        "id": "9OO9B-y0C_cO",
        "outputId": "329d0910-62e9-47ff-89b8-6e5663763092"
      },
      "source": [
        "!pip3 install https://github.com/ludlows/python-pesq/archive/master.zip"
      ],
      "execution_count": null,
      "outputs": [
        {
          "output_type": "stream",
          "name": "stdout",
          "text": [
            "Collecting https://github.com/ludlows/python-pesq/archive/master.zip\n",
            "  Downloading https://github.com/ludlows/python-pesq/archive/master.zip\n",
            "\u001b[?25l\r\u001b[K     - 7.6 kB 21.7 MB/s\r\u001b[K     \\ 17 kB 29.4 MB/s\r\u001b[K     | 28 kB 38.1 MB/s\r\u001b[K     / 38 kB 45.0 MB/s\r\u001b[K     - 48 kB 25.4 MB/s\r\u001b[K     \\ 58 kB 28.7 MB/s\r\u001b[K     | 68 kB 32.1 MB/s\r\u001b[K     / 79 kB 25.2 MB/s\r\u001b[K     - 84 kB 26.7 MB/s\r\u001b[K     \\ 94 kB 23.0 MB/s\r\u001b[K     | 104 kB 23.0 MB/s\r\u001b[K     / 109 kB 23.0 MB/s\r\u001b[K     - 119 kB 23.0 MB/s\r\u001b[K     \\ 130 kB 23.0 MB/s\r\u001b[K     | 140 kB 23.0 MB/s\r\u001b[K     / 150 kB 23.0 MB/s\r\u001b[K     - 160 kB 23.0 MB/s\r\u001b[K     \\ 170 kB 23.0 MB/s\r\u001b[K     | 174 kB 23.0 MB/s\r\u001b[K     / 178 kB 23.0 MB/s\r\u001b[K     - 182 kB 23.0 MB/s\r\u001b[K     \\ 191 kB 23.0 MB/s\r\u001b[K     | 195 kB 23.0 MB/s\r\u001b[K     / 206 kB 23.0 MB/s\r\u001b[K     - 209 kB 23.0 MB/s\r\u001b[K     \\ 213 kB 23.0 MB/s\r\u001b[K     | 218 kB 23.0 MB/s\n",
            "\u001b[?25hBuilding wheels for collected packages: pesq\n",
            "  Building wheel for pesq (setup.py) ... \u001b[?25l\u001b[?25hdone\n",
            "  Created wheel for pesq: filename=pesq-0.0.3-cp37-cp37m-linux_x86_64.whl size=210772 sha256=15f00ae6b419cf7a3b2e094c48045e8c5eef174801a7146b65583cb0051711c4\n",
            "  Stored in directory: /tmp/pip-ephem-wheel-cache-o24v3f83/wheels/d1/20/45/c7e9863313d98b1a68143bac97789fa8d783c76b179bc9384b\n",
            "Successfully built pesq\n",
            "Installing collected packages: pesq\n",
            "Successfully installed pesq-0.0.3\n"
          ]
        }
      ]
    },
    {
      "cell_type": "code",
      "metadata": {
        "colab": {
          "base_uri": "https://localhost:8080/"
        },
        "id": "ACZbmF9xDmyt",
        "outputId": "c44f761d-729d-4888-addd-2c19397aa055"
      },
      "source": [
        "from scipy.io import wavfile\n",
        "from pesq import pesq\n",
        "\n",
        "rate, ref = wavfile.read(\"/content/data/a1.wav\")\n",
        "rate, deg = wavfile.read(\"/content/data/a2.wav\")\n",
        "\n",
        "print(pesq(rate, ref, deg, 'wb'))\n",
        "print(pesq(rate, ref, deg, 'nb'))"
      ],
      "execution_count": null,
      "outputs": [
        {
          "output_type": "stream",
          "name": "stdout",
          "text": [
            "1.0280519723892212\n",
            "1.0439321994781494\n"
          ]
        }
      ]
    },
    {
      "cell_type": "code",
      "metadata": {
        "id": "htatSqn2D5PQ"
      },
      "source": [
        ""
      ],
      "execution_count": null,
      "outputs": []
    },
    {
      "cell_type": "code",
      "metadata": {
        "id": "OeQ66Py5IJC6"
      },
      "source": [
        ""
      ],
      "execution_count": null,
      "outputs": []
    },
    {
      "cell_type": "code",
      "metadata": {
        "id": "zTXuVhofIJFc"
      },
      "source": [
        ""
      ],
      "execution_count": null,
      "outputs": []
    },
    {
      "cell_type": "code",
      "metadata": {
        "id": "2mjnMwxHIJHj"
      },
      "source": [
        ""
      ],
      "execution_count": null,
      "outputs": []
    },
    {
      "cell_type": "code",
      "metadata": {
        "id": "qLHluKMOIJKJ"
      },
      "source": [
        "import librosa\n",
        "data, sr=librosa.load(\"/content/data/a1.wav\", sr=16000)"
      ],
      "execution_count": null,
      "outputs": []
    },
    {
      "cell_type": "code",
      "metadata": {
        "colab": {
          "base_uri": "https://localhost:8080/"
        },
        "id": "0YEuJ9HHIVfA",
        "outputId": "fc48e07c-a09e-4d31-95c6-8bea0c6ea15d"
      },
      "source": [
        "len(data)"
      ],
      "execution_count": null,
      "outputs": [
        {
          "output_type": "execute_result",
          "data": {
            "text/plain": [
              "49600"
            ]
          },
          "metadata": {},
          "execution_count": 23
        }
      ]
    },
    {
      "cell_type": "code",
      "metadata": {
        "colab": {
          "base_uri": "https://localhost:8080/"
        },
        "id": "B_W0T0FzIbH9",
        "outputId": "bb64b1d4-f1b4-4f4d-8912-eb0fc2169eb6"
      },
      "source": [
        "type(data)"
      ],
      "execution_count": null,
      "outputs": [
        {
          "output_type": "execute_result",
          "data": {
            "text/plain": [
              "numpy.ndarray"
            ]
          },
          "metadata": {},
          "execution_count": 24
        }
      ]
    },
    {
      "cell_type": "code",
      "metadata": {
        "colab": {
          "base_uri": "https://localhost:8080/"
        },
        "id": "CPQrbzxCImFV",
        "outputId": "d4ed4353-5a61-4611-c352-051a2bbcdb4b"
      },
      "source": [
        "data.size"
      ],
      "execution_count": null,
      "outputs": [
        {
          "output_type": "execute_result",
          "data": {
            "text/plain": [
              "49600"
            ]
          },
          "metadata": {},
          "execution_count": 25
        }
      ]
    },
    {
      "cell_type": "code",
      "metadata": {
        "id": "fX9iyn9cM_CN"
      },
      "source": [
        "import numpy as np\n",
        "\n",
        "x=np.arange(0, 49600, 1)"
      ],
      "execution_count": null,
      "outputs": []
    },
    {
      "cell_type": "code",
      "metadata": {
        "colab": {
          "base_uri": "https://localhost:8080/",
          "height": 53
        },
        "id": "QoMuxLv3IoN1",
        "outputId": "91d5efcb-d6f9-4c24-fe04-1cc6ad2ef505"
      },
      "source": [
        "import matplotlib.pyplot as plt \n",
        "plt.figure(figsize=(4,4))"
      ],
      "execution_count": null,
      "outputs": [
        {
          "output_type": "execute_result",
          "data": {
            "text/plain": [
              "<Figure size 288x288 with 0 Axes>"
            ]
          },
          "metadata": {},
          "execution_count": 14
        },
        {
          "output_type": "display_data",
          "data": {
            "text/plain": [
              "<Figure size 288x288 with 0 Axes>"
            ]
          },
          "metadata": {}
        }
      ]
    },
    {
      "cell_type": "code",
      "metadata": {
        "colab": {
          "base_uri": "https://localhost:8080/",
          "height": 283
        },
        "id": "PLy-9txSI6zH",
        "outputId": "a4df4186-e3e8-4827-a04c-56fbfb67e856"
      },
      "source": [
        "plt.plot(x, data )"
      ],
      "execution_count": null,
      "outputs": [
        {
          "output_type": "execute_result",
          "data": {
            "text/plain": [
              "[<matplotlib.lines.Line2D at 0x7f3461047890>]"
            ]
          },
          "metadata": {},
          "execution_count": 27
        },
        {
          "output_type": "display_data",
          "data": {
            "image/png": "[encoded data removed]",
            "text/plain": [
              "<Figure size 432x288 with 1 Axes>"
            ]
          },
          "metadata": {
            "needs_background": "light"
          }
        }
      ]
    },
    {
      "cell_type": "code",
      "metadata": {
        "colab": {
          "base_uri": "https://localhost:8080/"
        },
        "id": "maH9LQ2VNj_f",
        "outputId": "66a5e473-eaf3-4987-e692-a7a7417acefe"
      },
      "source": [
        "import librosa\n",
        "data1, sr=librosa.load(\"/content/data/a2.wav\", sr=16000)\n",
        "len(data1)"
      ],
      "execution_count": null,
      "outputs": [
        {
          "output_type": "execute_result",
          "data": {
            "text/plain": [
              "57280"
            ]
          },
          "metadata": {},
          "execution_count": 30
        }
      ]
    },
    {
      "cell_type": "code",
      "metadata": {
        "id": "46Va6aCaQApd"
      },
      "source": [
        "x1=np.arange(0, 57280, 1)"
      ],
      "execution_count": null,
      "outputs": []
    },
    {
      "cell_type": "code",
      "metadata": {
        "colab": {
          "base_uri": "https://localhost:8080/",
          "height": 283
        },
        "id": "4EkNafa9PZM2",
        "outputId": "94439fdb-ac9f-4a7b-bfc5-1a4481fe2e72"
      },
      "source": [
        "plt.plot(x1, data1 )"
      ],
      "execution_count": null,
      "outputs": [
        {
          "output_type": "execute_result",
          "data": {
            "text/plain": [
              "[<matplotlib.lines.Line2D at 0x7f3460fe9050>]"
            ]
          },
          "metadata": {},
          "execution_count": 33
        },
        {
          "output_type": "display_data",
          "data": {
            "image/png": "[encoded data removed]",
            "text/plain": [
              "<Figure size 432x288 with 1 Axes>"
            ]
          },
          "metadata": {
            "needs_background": "light"
          }
        }
      ]
    },
    {
      "cell_type": "code",
      "metadata": {
        "id": "-0zJHxC-Pege"
      },
      "source": [
        ""
      ],
      "execution_count": null,
      "outputs": []
    }
  ]
}