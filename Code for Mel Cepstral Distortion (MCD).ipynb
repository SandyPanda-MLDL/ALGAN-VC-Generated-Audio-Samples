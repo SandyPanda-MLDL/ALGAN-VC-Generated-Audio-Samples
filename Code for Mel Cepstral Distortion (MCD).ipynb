{
 "cells": [
  {
   "cell_type": "markdown",
   "metadata": {},
   "source": [
    "# Mel-Cepstral Distortion (MCD)"
   ]
  },
  {
   "cell_type": "markdown",
   "metadata": {},
   "source": [
    "### import libraries"
   ]
  },
  {
   "cell_type": "code",
   "execution_count": 5,
   "metadata": {},
   "outputs": [],
   "source": [
    "\n",
    "import os\n",
    "import math\n",
    "import glob\n",
    "import librosa\n",
    "import pyworld\n",
    "import pysptk\n",
    "import numpy as np\n",
    "import matplotlib.pyplot as plot\n"
   ]
  },
  {
   "cell_type": "markdown",
   "metadata": {},
   "source": [
    "### func for loading wav files"
   ]
  },
  {
   "cell_type": "code",
   "execution_count": 7,
   "metadata": {},
   "outputs": [],
   "source": [
    "SAMPLING_RATE = 22050\n",
    "FRAME_PERIOD = 5.0\n",
    "\n",
    "def load_wav(wav_file, sr):\n",
    "    \n",
    "    wav, _ = librosa.load(wav_file, sr=sr, mono=True)\n",
    "\n",
    "    return wav"
   ]
  },
  {
   "cell_type": "markdown",
   "metadata": {},
   "source": [
    "### func for the formulation of MCD"
   ]
  },
  {
   "cell_type": "code",
   "execution_count": 20,
   "metadata": {},
   "outputs": [],
   "source": [
    "def MCD(x, y):\n",
    "    log_spec_dB_const = 10.0 / math.log(10.0) * math.sqrt(2.0)\n",
    "    diff = x - y\n",
    "    \n",
    "    return log_spec_dB_const * math.sqrt(np.inner(diff, diff))\n"
   ]
  },
  {
   "cell_type": "markdown",
   "metadata": {},
   "source": [
    "### loading original and the synthesized speech data"
   ]
  },
  {
   "cell_type": "code",
   "execution_count": 8,
   "metadata": {},
   "outputs": [
    {
     "data": {
      "text/plain": [
       "['./Data/A1/A1.wav']"
      ]
     },
     "execution_count": 8,
     "metadata": {},
     "output_type": "execute_result"
    }
   ],
   "source": [
    "Org_speech_wav_file_paths = glob.glob('./Data/A1/*')\n",
    "Synth_speech_wav_file_paths = glob.glob('./Data/A2/*')\n",
    "\n",
    "Org_speech_wav_file_paths[:]\n",
    "\n"
   ]
  },
  {
   "cell_type": "markdown",
   "metadata": {},
   "source": [
    "### func for extracting MCEP features (using WORLD analyzer)"
   ]
  },
  {
   "cell_type": "code",
   "execution_count": 15,
   "metadata": {},
   "outputs": [],
   "source": [
    "SAMPLING_RATE = 22050\n",
    "FRAME_PERIOD = 5.0\n",
    "\n",
    "def MCEP(wavfile, mcep_target_directory, alpha=0.65, fft_size=512, mcep_size=34):\n",
    "    \n",
    "    if not os.path.exists(mcep_target_directory):\n",
    "        os.makedirs(mcep_target_directory)\n",
    "\n",
    "    loaded_wav_file = load_wav(wavfile, sr=SAMPLING_RATE)\n",
    "\n",
    "   \n",
    "    _, spectral_envelop, _ = pyworld.wav2world(loaded_wav_file.astype(np.double), fs=SAMPLING_RATE,\n",
    "                                   frame_period=FRAME_PERIOD, fft_size=fft_size)\n",
    "\n",
    "    \n",
    "    mcep = pysptk.sptk.mcep(spectral_envelop, order=mcep_size, alpha=alpha, maxiter=0,\n",
    "                           etype=1, eps=1.0E-8, min_det=0.0, itype=3)\n",
    "\n",
    "    fname = os.path.basename(wavfile).split('.')[0]\n",
    "    np.save(os.path.join(mcep_target_directory, fname + '.npy'),\n",
    "            mcep,\n",
    "            allow_pickle=False)\n"
   ]
  },
  {
   "cell_type": "markdown",
   "metadata": {},
   "source": [
    "### storing the mcep features as npy files "
   ]
  },
  {
   "cell_type": "code",
   "execution_count": 17,
   "metadata": {},
   "outputs": [],
   "source": [
    "alpha = 0.65  \n",
    "fft_size = 512\n",
    "mcep_size = 34\n",
    "\n",
    "dir_org_speech_wav = glob.glob('./Data/A1/*')\n",
    "dir_org_speech_mcep = './Data/mceps_numpy/trg'\n",
    "dir_converted_speech_wav = glob.glob('./Data/A2/*')\n",
    "dir_converted_speech_mcep = './Data/mceps_numpy/conv'\n",
    "\n",
    "for wav in dir_org_speech_wav:\n",
    "    MCEP(wav, dir_org_speech_mcep, fft_size=fft_size, mcep_size=mcep_size)\n",
    "\n",
    "for wav in dir_converted_speech_wav:\n",
    "    MCEP(wav, dir_converted_speech_mcep, fft_size=fft_size, mcep_size=mcep_size)\n"
   ]
  },
  {
   "cell_type": "markdown",
   "metadata": {},
   "source": [
    "### MCD calculation calculation using DTW ( Dynamic Time Warping )"
   ]
  },
  {
   "cell_type": "code",
   "execution_count": 18,
   "metadata": {},
   "outputs": [],
   "source": [
    "def mcd_cal(mcep_org_files, mcep_synth_files, MCD):\n",
    "    min_cost_tot = 0.0\n",
    "    total_frames = 0\n",
    "    \n",
    "    for i in mcep_org_files:\n",
    "        \n",
    "        for j in mcep_synth_files:\n",
    "            \n",
    "            split_org_file,  split_synth_file = os.path.basename(i).split('_'), os.path.basename(j).split('_')\n",
    "            org_speaker, org_speaker_id = split_org_file[0], split_org_file[-1]\n",
    "            synth_speaker, synth_speaker_id = split_synth_file[0], split_synth_file[-1]\n",
    "            \n",
    "            \n",
    "            if org_speaker==synth_speaker and org_speaker_id==synth_speaker_id:\n",
    "                \n",
    "                org_mcep_npy=np.load('./Data/mceps_numpy/trg/A1.npy')\n",
    "            \n",
    "                frame_no = len(org_mcep_npy)\n",
    "                synth_mcep_npy = np.load('./Data/mceps_numpy/conv/A1.npy')\n",
    "                \n",
    "                min_cost, _ = librosa.sequence.dtw(org_mcep_npy[:, 1:].T, synth_mcep_npy[:, 1:].T, \n",
    "                                                   metric=MCD)\n",
    "    \n",
    "                min_cost_tot += np.mean(min_cost)\n",
    "                \n",
    "                total_frames += frame_no\n",
    "                \n",
    "    \n",
    "    mcd = min_cost_tot/total_frames\n",
    "    \n",
    "    return mcd, total_frames"
   ]
  },
  {
   "cell_type": "markdown",
   "metadata": {},
   "source": [
    "### Code execution for MCD calculation between original and converted speech"
   ]
  },
  {
   "cell_type": "code",
   "execution_count": 21,
   "metadata": {},
   "outputs": [
    {
     "name": "stdout",
     "output_type": "stream",
     "text": [
      " MCD = 7.420275694517665 dB and total of frames 811\n"
     ]
    }
   ],
   "source": [
    "org_file = glob.glob('./Data/mceps_numpy/trg/*')\n",
    "synth_file= glob.glob('./Data/mceps_numpy/conv/*')\n",
    "\n",
    "cost_function = MCD\n",
    "\n",
    "mcd, frames_used = mcd_cal(org_file, synth_file, cost_function)\n",
    "\n",
    "\n",
    "\n",
    "print(f' MCD = {mcd} dB and total of frames {frames_used}')\n"
   ]
  },
  {
   "cell_type": "code",
   "execution_count": null,
   "metadata": {},
   "outputs": [],
   "source": []
  }
 ],
 "metadata": {
  "kernelspec": {
   "display_name": "Python 3",
   "language": "python",
   "name": "python3"
  },
  "language_info": {
   "codemirror_mode": {
    "name": "ipython",
    "version": 3
   },
   "file_extension": ".py",
   "mimetype": "text/x-python",
   "name": "python",
   "nbconvert_exporter": "python",
   "pygments_lexer": "ipython3",
   "version": "3.6.9"
  }
 },
 "nbformat": 4,
 "nbformat_minor": 2
}
