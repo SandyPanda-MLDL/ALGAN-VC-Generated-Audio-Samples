{
 "cells": [
  {
   "cell_type": "code",
   "execution_count": 110,
   "metadata": {},
   "outputs": [],
   "source": [
    "import os\n",
    "import math\n",
    "import glob\n",
    "import librosa\n",
    "import pyworld\n",
    "import pysptk\n",
    "import numpy as np\n",
    "import matplotlib.pyplot as plot"
   ]
  },
  {
   "cell_type": "markdown",
   "metadata": {},
   "source": [
    "### paths of audio files"
   ]
  },
  {
   "cell_type": "code",
   "execution_count": 111,
   "metadata": {},
   "outputs": [],
   "source": [
    "train_A_dir= './Data/org'\n",
    "train_B_dir='./Data/tar'"
   ]
  },
  {
   "cell_type": "markdown",
   "metadata": {},
   "source": [
    "### functions to load files"
   ]
  },
  {
   "cell_type": "code",
   "execution_count": 112,
   "metadata": {},
   "outputs": [],
   "source": [
    "\n",
    "def load_wavs(wav_dir, sr):\n",
    "    \n",
    "    wavs = []  \n",
    "    ori_wav = os.listdir(wav_dir)\n",
    "    for i in range(len(ori_wav)):\n",
    "        file = ori_wav[i]\n",
    "        file_path = os.path.join(wav_dir, file)\n",
    "        wav, _ = librosa.load(file_path, sr = sr, mono = True)\n",
    "        \n",
    "        wavs.append(wav)\n",
    "\n",
    "    return wavs"
   ]
  },
  {
   "cell_type": "code",
   "execution_count": 113,
   "metadata": {},
   "outputs": [],
   "source": [
    "sampling_rate = 16000\n",
    "num_mcep = 24\n",
    "frame_period = 5.0\n",
    "n_frames = 128\n",
    "\n",
    "\n",
    "wavs_A = load_wavs(wav_dir = train_A_dir, sr = sampling_rate)\n",
    "wavs_B = load_wavs(wav_dir = train_B_dir, sr = sampling_rate)\n"
   ]
  },
  {
   "cell_type": "markdown",
   "metadata": {},
   "source": [
    "### WORLD Analyzer ( log F0 feature calculation )"
   ]
  },
  {
   "cell_type": "code",
   "execution_count": 114,
   "metadata": {},
   "outputs": [],
   "source": [
    "def world_encode_data(wavs, fs, frame_period = 5.0, coded_dim = 24):\n",
    "\n",
    "    f0s = []\n",
    "    \n",
    "    num_mcep = 24\n",
    "    for i in range(len(wavs)):\n",
    "        wav = wavs[i]\n",
    "        wav = wav.astype(np.float64)\n",
    "        f0, _  = pyworld.harvest(wav, fs, frame_period = frame_period, f0_floor = 71.0, f0_ceil = 800.0)\n",
    "        #f0s.append(f0)\n",
    "        #log_f0s_concatenated0 = np.ma.log(np.concatenate(f0s))\n",
    "        \n",
    "\n",
    "    return f0 #log_f0s_concatenated0"
   ]
  },
  {
   "cell_type": "code",
   "execution_count": 115,
   "metadata": {},
   "outputs": [],
   "source": [
    "\n",
    "f0s_A = world_encode_data(wavs = wavs_A, fs = sampling_rate, frame_period = frame_period, coded_dim = num_mcep)\n",
    "f0s_B = world_encode_data(wavs = wavs_B, fs = sampling_rate, frame_period = frame_period, coded_dim = num_mcep)\n",
    "\n",
    "    "
   ]
  },
  {
   "cell_type": "code",
   "execution_count": 116,
   "metadata": {},
   "outputs": [],
   "source": [
    "frame_len=0\n",
    "if len(f0s_A)<len(f0s_B):\n",
    "    frame_len=f0s_A\n",
    "else:\n",
    "    frame_len=f0s_B\n",
    "    "
   ]
  },
  {
   "cell_type": "code",
   "execution_count": 117,
   "metadata": {},
   "outputs": [],
   "source": [
    "def logf0_rmse(x, y):\n",
    "    log_spec_dB_const = 1/len(frame_len)\n",
    "    diff = x - y\n",
    "    \n",
    "    return log_spec_dB_const * math.sqrt(np.inner(diff, diff))\n"
   ]
  },
  {
   "cell_type": "code",
   "execution_count": 118,
   "metadata": {},
   "outputs": [],
   "source": [
    "cost_function = logf0_rmse"
   ]
  },
  {
   "cell_type": "markdown",
   "metadata": {},
   "source": [
    "### using dynamic time warping (DTW) F0 RMSE calculation"
   ]
  },
  {
   "cell_type": "code",
   "execution_count": 119,
   "metadata": {},
   "outputs": [],
   "source": [
    "min_cost, _ = librosa.sequence.dtw(f0s_A[:].T, f0s_B[:].T, \n",
    "                                                   metric=cost_function)\n",
    "min_cost_tot=0\n",
    "min_cost_tot += np.mean(min_cost)"
   ]
  },
  {
   "cell_type": "code",
   "execution_count": 120,
   "metadata": {},
   "outputs": [
    {
     "data": {
      "text/plain": [
       "23.363098021922227"
      ]
     },
     "execution_count": 120,
     "metadata": {},
     "output_type": "execute_result"
    }
   ],
   "source": [
    "min_cost_tot"
   ]
  },
  {
   "cell_type": "code",
   "execution_count": 108,
   "metadata": {},
   "outputs": [],
   "source": [
    "#mean_logf0_rmse = min_cost_tot/len(frame_len)\n",
    "#mean_logf0_rmse"
   ]
  }
 ],
 "metadata": {
  "kernelspec": {
   "display_name": "Python 3",
   "language": "python",
   "name": "python3"
  },
  "language_info": {
   "codemirror_mode": {
    "name": "ipython",
    "version": 3
   },
   "file_extension": ".py",
   "mimetype": "text/x-python",
   "name": "python",
   "nbconvert_exporter": "python",
   "pygments_lexer": "ipython3",
   "version": "3.6.9"
  }
 },
 "nbformat": 4,
 "nbformat_minor": 2
}
