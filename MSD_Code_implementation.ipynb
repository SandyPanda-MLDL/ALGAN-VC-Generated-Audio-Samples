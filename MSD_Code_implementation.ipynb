{
  "nbformat": 4,
  "nbformat_minor": 0,
  "metadata": {
    "colab": {
      "name": "MSD Code implementation.ipynb",
      "provenance": []
    },
    "kernelspec": {
      "name": "python3",
      "display_name": "Python 3"
    },
    "language_info": {
      "name": "python"
    }
  },
  "cells": [
    {
      "cell_type": "code",
      "metadata": {
        "colab": {
          "base_uri": "https://localhost:8080/"
        },
        "id": "x2s3AvTeRql1",
        "outputId": "d49bcbf3-8f6f-4f6e-a842-2066953b9b82"
      },
      "source": [
        "%pylab inline\n",
        "rcParams[\"figure.figsize\"] = (16,5)\n",
        "\n",
        "import sys\n",
        "sys.path.insert(0, \"..\")"
      ],
      "execution_count": 1,
      "outputs": [
        {
          "output_type": "stream",
          "name": "stdout",
          "text": [
            "Populating the interactive namespace from numpy and matplotlib\n"
          ]
        }
      ]
    },
    {
      "cell_type": "code",
      "metadata": {
        "colab": {
          "base_uri": "https://localhost:8080/"
        },
        "id": "OmNjaiodR0ok",
        "outputId": "ee95db84-238a-4f67-c872-7acdb9a30f10"
      },
      "source": [
        "!pip3 install pysptk"
      ],
      "execution_count": 2,
      "outputs": [
        {
          "output_type": "stream",
          "name": "stdout",
          "text": [
            "Collecting pysptk\n",
            "  Downloading pysptk-0.1.18.tar.gz (419 kB)\n",
            "\u001b[?25l\r\u001b[K     |▉                               | 10 kB 25.1 MB/s eta 0:00:01\r\u001b[K     |█▋                              | 20 kB 30.9 MB/s eta 0:00:01\r\u001b[K     |██▍                             | 30 kB 23.0 MB/s eta 0:00:01\r\u001b[K     |███▏                            | 40 kB 18.1 MB/s eta 0:00:01\r\u001b[K     |████                            | 51 kB 8.1 MB/s eta 0:00:01\r\u001b[K     |████▊                           | 61 kB 8.6 MB/s eta 0:00:01\r\u001b[K     |█████▌                          | 71 kB 7.3 MB/s eta 0:00:01\r\u001b[K     |██████▎                         | 81 kB 8.2 MB/s eta 0:00:01\r\u001b[K     |███████                         | 92 kB 8.4 MB/s eta 0:00:01\r\u001b[K     |███████▉                        | 102 kB 7.2 MB/s eta 0:00:01\r\u001b[K     |████████▋                       | 112 kB 7.2 MB/s eta 0:00:01\r\u001b[K     |█████████▍                      | 122 kB 7.2 MB/s eta 0:00:01\r\u001b[K     |██████████▏                     | 133 kB 7.2 MB/s eta 0:00:01\r\u001b[K     |███████████                     | 143 kB 7.2 MB/s eta 0:00:01\r\u001b[K     |███████████▊                    | 153 kB 7.2 MB/s eta 0:00:01\r\u001b[K     |████████████▌                   | 163 kB 7.2 MB/s eta 0:00:01\r\u001b[K     |█████████████▎                  | 174 kB 7.2 MB/s eta 0:00:01\r\u001b[K     |██████████████                  | 184 kB 7.2 MB/s eta 0:00:01\r\u001b[K     |██████████████▉                 | 194 kB 7.2 MB/s eta 0:00:01\r\u001b[K     |███████████████▋                | 204 kB 7.2 MB/s eta 0:00:01\r\u001b[K     |████████████████▍               | 215 kB 7.2 MB/s eta 0:00:01\r\u001b[K     |█████████████████▏              | 225 kB 7.2 MB/s eta 0:00:01\r\u001b[K     |██████████████████              | 235 kB 7.2 MB/s eta 0:00:01\r\u001b[K     |██████████████████▊             | 245 kB 7.2 MB/s eta 0:00:01\r\u001b[K     |███████████████████▌            | 256 kB 7.2 MB/s eta 0:00:01\r\u001b[K     |████████████████████▎           | 266 kB 7.2 MB/s eta 0:00:01\r\u001b[K     |█████████████████████           | 276 kB 7.2 MB/s eta 0:00:01\r\u001b[K     |█████████████████████▉          | 286 kB 7.2 MB/s eta 0:00:01\r\u001b[K     |██████████████████████▋         | 296 kB 7.2 MB/s eta 0:00:01\r\u001b[K     |███████████████████████▍        | 307 kB 7.2 MB/s eta 0:00:01\r\u001b[K     |████████████████████████▏       | 317 kB 7.2 MB/s eta 0:00:01\r\u001b[K     |█████████████████████████       | 327 kB 7.2 MB/s eta 0:00:01\r\u001b[K     |█████████████████████████▉      | 337 kB 7.2 MB/s eta 0:00:01\r\u001b[K     |██████████████████████████▋     | 348 kB 7.2 MB/s eta 0:00:01\r\u001b[K     |███████████████████████████▍    | 358 kB 7.2 MB/s eta 0:00:01\r\u001b[K     |████████████████████████████▏   | 368 kB 7.2 MB/s eta 0:00:01\r\u001b[K     |█████████████████████████████   | 378 kB 7.2 MB/s eta 0:00:01\r\u001b[K     |█████████████████████████████▊  | 389 kB 7.2 MB/s eta 0:00:01\r\u001b[K     |██████████████████████████████▌ | 399 kB 7.2 MB/s eta 0:00:01\r\u001b[K     |███████████████████████████████▎| 409 kB 7.2 MB/s eta 0:00:01\r\u001b[K     |████████████████████████████████| 419 kB 7.2 MB/s \n",
            "\u001b[?25hRequirement already satisfied: scipy in /usr/local/lib/python3.7/dist-packages (from pysptk) (1.4.1)\n",
            "Requirement already satisfied: six in /usr/local/lib/python3.7/dist-packages (from pysptk) (1.15.0)\n",
            "Requirement already satisfied: decorator in /usr/local/lib/python3.7/dist-packages (from pysptk) (4.4.2)\n",
            "Requirement already satisfied: numpy>=1.13.3 in /usr/local/lib/python3.7/dist-packages (from scipy->pysptk) (1.19.5)\n",
            "Building wheels for collected packages: pysptk\n",
            "  Building wheel for pysptk (setup.py) ... \u001b[?25l\u001b[?25hdone\n",
            "  Created wheel for pysptk: filename=pysptk-0.1.18-cp37-cp37m-linux_x86_64.whl size=952269 sha256=5729e4ab82fec14b2537a17aad46d72d9728605903284c6e63adffb16b2eb5d2\n",
            "  Stored in directory: /root/.cache/pip/wheels/44/95/38/580fe995213257289c69bf74f4d122e39cd134c731fe17a5a6\n",
            "Successfully built pysptk\n",
            "Installing collected packages: pysptk\n",
            "Successfully installed pysptk-0.1.18\n"
          ]
        }
      ]
    },
    {
      "cell_type": "code",
      "metadata": {
        "colab": {
          "base_uri": "https://localhost:8080/"
        },
        "id": "7ZXkUUQTR6ZS",
        "outputId": "6ac0235c-f73b-4ddd-e038-c2f82433bc5a"
      },
      "source": [
        "!pip3 install pyworld"
      ],
      "execution_count": 3,
      "outputs": [
        {
          "output_type": "stream",
          "name": "stdout",
          "text": [
            "Collecting pyworld\n",
            "  Downloading pyworld-0.3.0.tar.gz (212 kB)\n",
            "\u001b[?25l\r\u001b[K     |█▌                              | 10 kB 39.1 MB/s eta 0:00:01\r\u001b[K     |███                             | 20 kB 40.6 MB/s eta 0:00:01\r\u001b[K     |████▋                           | 30 kB 44.2 MB/s eta 0:00:01\r\u001b[K     |██████▏                         | 40 kB 25.1 MB/s eta 0:00:01\r\u001b[K     |███████▊                        | 51 kB 7.0 MB/s eta 0:00:01\r\u001b[K     |█████████▎                      | 61 kB 7.7 MB/s eta 0:00:01\r\u001b[K     |██████████▉                     | 71 kB 6.7 MB/s eta 0:00:01\r\u001b[K     |████████████▍                   | 81 kB 7.5 MB/s eta 0:00:01\r\u001b[K     |██████████████                  | 92 kB 7.4 MB/s eta 0:00:01\r\u001b[K     |███████████████▌                | 102 kB 6.7 MB/s eta 0:00:01\r\u001b[K     |█████████████████               | 112 kB 6.7 MB/s eta 0:00:01\r\u001b[K     |██████████████████▌             | 122 kB 6.7 MB/s eta 0:00:01\r\u001b[K     |████████████████████            | 133 kB 6.7 MB/s eta 0:00:01\r\u001b[K     |█████████████████████▋          | 143 kB 6.7 MB/s eta 0:00:01\r\u001b[K     |███████████████████████▏        | 153 kB 6.7 MB/s eta 0:00:01\r\u001b[K     |████████████████████████▊       | 163 kB 6.7 MB/s eta 0:00:01\r\u001b[K     |██████████████████████████▎     | 174 kB 6.7 MB/s eta 0:00:01\r\u001b[K     |███████████████████████████▉    | 184 kB 6.7 MB/s eta 0:00:01\r\u001b[K     |█████████████████████████████▍  | 194 kB 6.7 MB/s eta 0:00:01\r\u001b[K     |███████████████████████████████ | 204 kB 6.7 MB/s eta 0:00:01\r\u001b[K     |████████████████████████████████| 212 kB 6.7 MB/s \n",
            "\u001b[?25h  Installing build dependencies ... \u001b[?25l\u001b[?25hdone\n",
            "  Getting requirements to build wheel ... \u001b[?25l\u001b[?25hdone\n",
            "    Preparing wheel metadata ... \u001b[?25l\u001b[?25hdone\n",
            "Requirement already satisfied: cython>=0.24.0 in /usr/local/lib/python3.7/dist-packages (from pyworld) (0.29.24)\n",
            "Requirement already satisfied: numpy in /usr/local/lib/python3.7/dist-packages (from pyworld) (1.19.5)\n",
            "Building wheels for collected packages: pyworld\n",
            "  Building wheel for pyworld (PEP 517) ... \u001b[?25l\u001b[?25hdone\n",
            "  Created wheel for pyworld: filename=pyworld-0.3.0-cp37-cp37m-linux_x86_64.whl size=609908 sha256=0d40a868db022d37666e1bc95632f552767ad5bd188f3eaadad0513424228f10\n",
            "  Stored in directory: /root/.cache/pip/wheels/e7/7c/11/c775fffa0e1e7b05a6604b4323408a77f80fb4ab304d96b5c6\n",
            "Successfully built pyworld\n",
            "Installing collected packages: pyworld\n",
            "Successfully installed pyworld-0.3.0\n"
          ]
        }
      ]
    },
    {
      "cell_type": "code",
      "metadata": {
        "id": "Hix-o43aSIr9"
      },
      "source": [
        "from os.path import join, basename"
      ],
      "execution_count": 4,
      "outputs": []
    },
    {
      "cell_type": "code",
      "metadata": {
        "id": "4liKXsvoSIup"
      },
      "source": [
        "import torch\n",
        "\n",
        "from scipy.io import wavfile\n",
        "import pysptk\n",
        "from pysptk.synthesis import Synthesizer, MLSADF\n",
        "import pyworld\n",
        "from os.path import join, basename\n",
        "\n",
        "#from nnmnkwii import preprocessing as P\n",
        "#from nnmnkwii.paramgen import unit_variance_mlpg_matrix\n",
        "\n",
        "#import gantts\n",
        "#from hparams import vc as hp\n",
        "\n",
        "import librosa\n",
        "import librosa.display\n",
        "import IPython\n",
        "from IPython.display import Audio"
      ],
      "execution_count": 5,
      "outputs": []
    },
    {
      "cell_type": "code",
      "metadata": {
        "id": "BpQk8_DmSYgG"
      },
      "source": [
        "import os\n",
        " \n",
        "# This is my path\n",
        "path1=\"/content/data/cycle/\"\n",
        "name= \"1.wav\"\n",
        "# to store files in a list\n",
        "list_cycle = []\n",
        " \n",
        "# dirs=directories\n",
        "for (root, dirs, file) in os.walk(path1):\n",
        "    for f in file:\n",
        "        print(f)\n",
        "        a=join(path1, name)\n",
        "        list_cycle.append(a)"
      ],
      "execution_count": null,
      "outputs": []
    },
    {
      "cell_type": "code",
      "metadata": {
        "id": "-Edh-15LSZiK"
      },
      "source": [
        "path=\"/content/data/algan_vc/\"\n",
        "name= \"1.wav\"\n",
        "# to store files in a list\n",
        "list_algan = []\n",
        " \n",
        "# dirs=directories\n",
        "for (root, dirs, file) in os.walk(path):\n",
        "    for f in file:\n",
        "        print(f)\n",
        "        a=join(path, name)\n",
        "        list_algan.append(a)"
      ],
      "execution_count": null,
      "outputs": []
    },
    {
      "cell_type": "code",
      "metadata": {
        "id": "l4Jp94QnSZk-"
      },
      "source": [
        "from tqdm import tnrange\n",
        "fs = 16000\n",
        "frame_period=5.0\n",
        "hop_length = int(fs * (frame_period * 0.001))\n",
        "ms_fftlen = 4096\n",
        "modfs = fs / hop_length\n",
        "ms_freq = np.arange(ms_fftlen//2 + 1)/ms_fftlen * modfs\n",
        "ms_freq"
      ],
      "execution_count": null,
      "outputs": []
    },
    {
      "cell_type": "code",
      "metadata": {
        "id": "CE5uxM21SYip"
      },
      "source": [
        "def compute_static_features(path):\n",
        "    fs, x = wavfile.read(path)\n",
        "    x = x.astype(np.float64)\n",
        "    f0, timeaxis = pyworld.dio(x, fs, frame_period=5.0)\n",
        "    f0 = pyworld.stonemask(x, f0, timeaxis, fs)\n",
        "    spectrogram = pyworld.cheaptrick(x, f0, timeaxis, fs)\n",
        "    aperiodicity = pyworld.d4c(x, f0, timeaxis, fs)\n",
        "    alpha = pysptk.util.mcepalpha(fs)\n",
        "    mc = pysptk.sp2mc(spectrogram, order=24, alpha=alpha)\n",
        "    c0, mc = mc[:, 0], mc[:, 1:]\n",
        "    return mc"
      ],
      "execution_count": null,
      "outputs": []
    },
    {
      "cell_type": "code",
      "metadata": {
        "id": "lJtDWCAKSwHp"
      },
      "source": [
        "import numpy as np\n",
        "\n",
        "\n",
        "\n",
        "\n",
        "def modspec(x, n=4096, norm=None, return_phase=False):\n",
        "    \n",
        "    # DFT against time axis\n",
        "    s_complex = np.fft.rfft(x, n=n, axis=0, norm=norm)\n",
        "    assert s_complex.shape[0] == n // 2 + 1\n",
        "    R, im = s_complex.real, s_complex.imag\n",
        "    ms = R * R + im * im\n",
        "\n",
        "    # TODO: this is ugly...\n",
        "    if return_phase:\n",
        "        return ms, np.exp(1.0j * np.angle(s_complex))\n",
        "    else:\n",
        "        return ms"
      ],
      "execution_count": null,
      "outputs": []
    },
    {
      "cell_type": "code",
      "metadata": {
        "id": "7fzMjx9JSxKT"
      },
      "source": [
        "def mean_modspec(files):\n",
        "    mss = []\n",
        "    for idx in tnrange(len(files)):\n",
        "        f = files[idx] \n",
        "        mgc = compute_static_features(f)\n",
        "        #print(mgc)\n",
        "        #b=log(modspec(mgc, n=ms_fftlen))\n",
        "        #print(b)\n",
        "        #print(np.any(b<=0))\n",
        "\n",
        "    \n",
        "        #print(b)\n",
        "        ms = np.log(modspec(mgc, n=ms_fftlen))\n",
        "        mss.append(ms)\n",
        "    return np.mean(np.array(mss), axis=(0,))"
      ],
      "execution_count": null,
      "outputs": []
    },
    {
      "cell_type": "code",
      "metadata": {
        "id": "cz27JeCLSz1l"
      },
      "source": [
        "ms_in2out = mean_modspec(list_algan)\n",
        "ms_in2out"
      ],
      "execution_count": null,
      "outputs": []
    },
    {
      "cell_type": "code",
      "metadata": {
        "id": "y5k_tAKSSz39"
      },
      "source": [
        "import librosa"
      ],
      "execution_count": null,
      "outputs": []
    },
    {
      "cell_type": "code",
      "metadata": {
        "id": "p0Ivr-4hS61p"
      },
      "source": [
        "ms_in2out = mean_modspec(list_algan)\n",
        "ms_in2out_new = mean_modspec(list_cycle)"
      ],
      "execution_count": null,
      "outputs": []
    },
    {
      "cell_type": "code",
      "metadata": {
        "id": "b_Hq-ZBXS8G5"
      },
      "source": [
        "#MSD difference\n",
        "\n",
        "\n",
        "\n",
        "new=0\n",
        "for i in range(24):\n",
        "    a=ms_in2out[i, :].T\n",
        "    b=ms_in2out_new [i,:].T\n",
        "    diff=np.mean(np.absolute(a-b))\n",
        "    diff=(np.inner(diff, diff))\n",
        "    new=new+diff\n",
        "\n",
        "\n",
        "MSD=math.sqrt(1/len(mean_modspec(list_algan).T))*math.sqrt(new)\n",
        "\n",
        "#a=ms_in2out[:, :].T\n",
        "#b=ms_in2out_new [:,:].T\n",
        "#diff=a-b\n",
        "#diff=np.absolute(np.mean(diff))\n",
        "#math.sqrt(np.inner(diff, diff))"
      ],
      "execution_count": null,
      "outputs": []
    },
    {
      "cell_type": "code",
      "metadata": {
        "id": "5UhqekyOS8Jw"
      },
      "source": [
        ""
      ],
      "execution_count": null,
      "outputs": []
    },
    {
      "cell_type": "code",
      "metadata": {
        "id": "9bw3CdBNS64b"
      },
      "source": [
        ""
      ],
      "execution_count": null,
      "outputs": []
    },
    {
      "cell_type": "code",
      "metadata": {
        "id": "zh4yc36WSz8K"
      },
      "source": [
        ""
      ],
      "execution_count": null,
      "outputs": []
    },
    {
      "cell_type": "code",
      "metadata": {
        "id": "cO2p5ir8SxM4"
      },
      "source": [
        ""
      ],
      "execution_count": null,
      "outputs": []
    },
    {
      "cell_type": "code",
      "metadata": {
        "id": "aLDBpqqpSxPL"
      },
      "source": [
        ""
      ],
      "execution_count": null,
      "outputs": []
    },
    {
      "cell_type": "code",
      "metadata": {
        "id": "1KzHT0b3SxSK"
      },
      "source": [
        ""
      ],
      "execution_count": null,
      "outputs": []
    },
    {
      "cell_type": "code",
      "metadata": {
        "id": "alxfSZpLSwKk"
      },
      "source": [
        ""
      ],
      "execution_count": null,
      "outputs": []
    },
    {
      "cell_type": "code",
      "metadata": {
        "id": "nADDTXWTSwNr"
      },
      "source": [
        ""
      ],
      "execution_count": null,
      "outputs": []
    },
    {
      "cell_type": "code",
      "metadata": {
        "id": "JVFS9Rb-SwQS"
      },
      "source": [
        ""
      ],
      "execution_count": null,
      "outputs": []
    }
  ]
}